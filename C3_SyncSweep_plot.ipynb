{
 "cells": [
  {
   "cell_type": "code",
   "execution_count": 1,
   "metadata": {},
   "outputs": [],
   "source": [
    "import numpy as np\n",
    "import pandas as pd\n",
    "import matplotlib.pyplot as plt\n",
    "import os"
   ]
  },
  {
   "cell_type": "code",
   "execution_count": 2,
   "metadata": {},
   "outputs": [],
   "source": [
    "ic_omega = 0\n",
    "ic_theta = 0\n",
    "#---------------"
   ]
  },
  {
   "cell_type": "code",
   "execution_count": 3,
   "metadata": {},
   "outputs": [],
   "source": [
    "K2_List = np.linspace(0.0, 2.0, 21)"
   ]
  },
  {
   "cell_type": "code",
   "execution_count": 4,
   "metadata": {},
   "outputs": [],
   "source": [
    "kk2 = 0\n",
    "K2 = K2_List[kk2]\n",
    "#----------------------------------------"
   ]
  },
  {
   "cell_type": "code",
   "execution_count": 7,
   "metadata": {},
   "outputs": [
    {
     "name": "stdout",
     "output_type": "stream",
     "text": [
      "-2.0 0.6154764053078138 2.0 0.9948312510556674\n",
      "-4.0 0.6308054048945301 -2.0 0.6154764053078138\n",
      "-5.0 0.6367851132497125 -4.0 0.6308054048863755\n",
      "-6.0 0.6372841469318308 -5.0 0.6367851132497125\n",
      "-10.0 0.6380955873626153 -6.0 0.6372841469663171\n",
      "-50.0 0.6390840970887829 -10.0 0.6380955873626153\n",
      "-400.0 0.6396326729094771 -50.0 0.6390840970887829\n",
      "-1000.0 0.6396431059917287 -400.0 0.6396326729094771\n"
     ]
    },
    {
     "data": {
      "image/png": "[encoded data removed]",
      "text/plain": [
       "<Figure size 432x288 with 1 Axes>"
      ]
     },
     "metadata": {
      "needs_background": "light"
     },
     "output_type": "display_data"
    }
   ],
   "source": [
    "fig = plt.figure()\n",
    "ax = fig.add_axes([0, 0, 2, 1])\n",
    "#----------------------------------------\n",
    "ThisDir = \"C3d_ThreePointIntSync\" #CHANGE THIS BY HAND!!!\n",
    "OrdParamDir  = \"{}_r\".format(ThisDir)\n",
    "PlotDir  = \"{}_Plots\".format(ThisDir)\n",
    "# if not os.path.exists(PlotDir): os.makedirs(PlotDir)\n",
    "\n",
    "r_FileName = f\"../{ThisDir}/{OrdParamDir}/{ThisDir}_r_data_omega{ic_omega}_theta{ic_theta}_K2_{kk2}.csv\"\n",
    "r_df = pd.read_csv(r_FileName)\n",
    "\n",
    "ax.errorbar(r_df[\"K1\"], r_df[\"TimeAvg\"], r_df[\"StdDev\"],\n",
    "            fmt='.-', fillstyle=\"none\", capsize=5, alpha=0.8)\n",
    "\n",
    "print(r_df[\"K1\"].values[0], r_df[\"TimeAvg\"].values[0], r_df[\"K1\"].values[-1], r_df[\"TimeAvg\"].values[-1])\n",
    "#----------------------------------------\n",
    "ThisDir = \"C3a_ThreePointIntSync\" #CHANGE THIS BY HAND!!!\n",
    "OrdParamDir  = \"{}_r\".format(ThisDir)\n",
    "PlotDir  = \"{}_Plots\".format(ThisDir)\n",
    "# if not os.path.exists(PlotDir): os.makedirs(PlotDir)\n",
    "\n",
    "r_FileName = f\"{OrdParamDir}/{ThisDir}_r_data_omega{ic_omega}_theta{ic_theta}_K2_{kk2}.csv\"\n",
    "r_df = pd.read_csv(r_FileName)\n",
    "\n",
    "ax.errorbar(r_df[\"K1\"], r_df[\"TimeAvg\"], r_df[\"StdDev\"],\n",
    "            fmt='.-', fillstyle=\"none\", capsize=5, alpha=0.8)\n",
    "\n",
    "print(r_df[\"K1\"].values[0], r_df[\"TimeAvg\"].values[0], r_df[\"K1\"].values[-1], r_df[\"TimeAvg\"].values[-1])\n",
    "#----------------------------------------\n",
    "ThisDir = \"C3b_ThreePointIntSync\" #CHANGE THIS BY HAND!!!\n",
    "OrdParamDir  = \"{}_r\".format(ThisDir)\n",
    "PlotDir  = \"{}_Plots\".format(ThisDir)\n",
    "# if not os.path.exists(PlotDir): os.makedirs(PlotDir)\n",
    "\n",
    "r_FileName = f\"../{ThisDir}/{OrdParamDir}/{ThisDir}_r_data_omega{ic_omega}_theta{ic_theta}_K2_{kk2}.csv\"\n",
    "r_df = pd.read_csv(r_FileName)\n",
    "\n",
    "ax.errorbar(r_df[\"K1\"], r_df[\"TimeAvg\"], r_df[\"StdDev\"],\n",
    "            fmt='.-', fillstyle=\"none\", capsize=5, alpha=0.8)\n",
    "\n",
    "print(r_df[\"K1\"].values[0], r_df[\"TimeAvg\"].values[0], r_df[\"K1\"].values[-1], r_df[\"TimeAvg\"].values[-1])\n",
    "#----------------------------------------\n",
    "ThisDir = \"C3c_ThreePointIntSync\" #CHANGE THIS BY HAND!!!\n",
    "OrdParamDir  = \"{}_r\".format(ThisDir)\n",
    "PlotDir  = \"{}_Plots\".format(ThisDir)\n",
    "# if not os.path.exists(PlotDir): os.makedirs(PlotDir)\n",
    "\n",
    "r_FileName = f\"../{ThisDir}/{OrdParamDir}/{ThisDir}_r_data_omega{ic_omega}_theta{ic_theta}_K2_{kk2}.csv\"\n",
    "r_df = pd.read_csv(r_FileName)\n",
    "\n",
    "ax.errorbar(r_df[\"K1\"], r_df[\"TimeAvg\"], r_df[\"StdDev\"],\n",
    "            fmt='.-', fillstyle=\"none\", capsize=5, alpha=0.8)\n",
    "\n",
    "print(r_df[\"K1\"].values[0], r_df[\"TimeAvg\"].values[0], r_df[\"K1\"].values[-1], r_df[\"TimeAvg\"].values[-1])\n",
    "#----------------------------------------\n",
    "ThisDir = \"C3e_ThreePointIntSync\" #CHANGE THIS BY HAND!!!\n",
    "OrdParamDir  = \"{}_r\".format(ThisDir)\n",
    "PlotDir  = \"{}_Plots\".format(ThisDir)\n",
    "# if not os.path.exists(PlotDir): os.makedirs(PlotDir)\n",
    "\n",
    "r_FileName = f\"../{ThisDir}/{OrdParamDir}/{ThisDir}_r_data_omega{ic_omega}_theta{ic_theta}_K2_{kk2}.csv\"\n",
    "r_df = pd.read_csv(r_FileName)\n",
    "\n",
    "ax.errorbar(r_df[\"K1\"], r_df[\"TimeAvg\"], r_df[\"StdDev\"],\n",
    "            fmt='.-', fillstyle=\"none\", capsize=5, alpha=0.8)\n",
    "\n",
    "print(r_df[\"K1\"].values[0], r_df[\"TimeAvg\"].values[0], r_df[\"K1\"].values[-1], r_df[\"TimeAvg\"].values[-1])\n",
    "#----------------------------------------\n",
    "ThisDir = \"C3f_ThreePointIntSync\" #CHANGE THIS BY HAND!!!\n",
    "OrdParamDir  = \"{}_r\".format(ThisDir)\n",
    "PlotDir  = \"{}_Plots\".format(ThisDir)\n",
    "# if not os.path.exists(PlotDir): os.makedirs(PlotDir)\n",
    "\n",
    "r_FileName = f\"../{ThisDir}/{OrdParamDir}/{ThisDir}_r_data_omega{ic_omega}_theta{ic_theta}_K2_{kk2}.csv\"\n",
    "r_df = pd.read_csv(r_FileName)\n",
    "\n",
    "ax.errorbar(r_df[\"K1\"], r_df[\"TimeAvg\"], r_df[\"StdDev\"],\n",
    "            fmt='.-', fillstyle=\"none\", capsize=5, alpha=0.8)\n",
    "\n",
    "print(r_df[\"K1\"].values[0], r_df[\"TimeAvg\"].values[0], r_df[\"K1\"].values[-1], r_df[\"TimeAvg\"].values[-1])\n",
    "#----------------------------------------\n",
    "ThisDir = \"C3g_ThreePointIntSync\" #CHANGE THIS BY HAND!!!\n",
    "OrdParamDir  = \"{}_r\".format(ThisDir)\n",
    "PlotDir  = \"{}_Plots\".format(ThisDir)\n",
    "# if not os.path.exists(PlotDir): os.makedirs(PlotDir)\n",
    "\n",
    "r_FileName = f\"../{ThisDir}/{OrdParamDir}/{ThisDir}_r_data_omega{ic_omega}_theta{ic_theta}_K2_{kk2}.csv\"\n",
    "r_df = pd.read_csv(r_FileName)\n",
    "\n",
    "ax.errorbar(r_df[\"K1\"], r_df[\"TimeAvg\"], r_df[\"StdDev\"],\n",
    "            fmt='.-', fillstyle=\"none\", capsize=5, alpha=0.8)\n",
    "\n",
    "print(r_df[\"K1\"].values[0], r_df[\"TimeAvg\"].values[0], r_df[\"K1\"].values[-1], r_df[\"TimeAvg\"].values[-1])\n",
    "#----------------------------------------\n",
    "ThisDir = \"C3h_ThreePointIntSync\" #CHANGE THIS BY HAND!!!\n",
    "OrdParamDir  = \"{}_r\".format(ThisDir)\n",
    "PlotDir  = \"{}_Plots\".format(ThisDir)\n",
    "# if not os.path.exists(PlotDir): os.makedirs(PlotDir)\n",
    "\n",
    "r_FileName = f\"../{ThisDir}/{OrdParamDir}/{ThisDir}_r_data_omega{ic_omega}_theta{ic_theta}_K2_{kk2}.csv\"\n",
    "r_df = pd.read_csv(r_FileName)\n",
    "\n",
    "ax.errorbar(r_df[\"K1\"], r_df[\"TimeAvg\"], r_df[\"StdDev\"],\n",
    "            fmt='.-', fillstyle=\"none\", capsize=5, alpha=0.8)\n",
    "\n",
    "print(r_df[\"K1\"].values[0], r_df[\"TimeAvg\"].values[0], r_df[\"K1\"].values[-1], r_df[\"TimeAvg\"].values[-1])\n",
    "#----------------------------------------\n",
    "ax.set_xlim([-2, 2])\n",
    "ax.set_xlim([-4, 2])\n",
    "# ax.set_xlim([-5, 2])\n",
    "# ax.set_xlim([-6, 2])\n",
    "# ax.set_xlim([-10, 2])\n",
    "# ax.set_xlim([-50, 2])\n",
    "ax.set_xlim([-400, 2])\n",
    "# ax.set_xlim([-1000, 2])\n",
    "\n",
    "# ax.set_ylim([0.63, 0.64])\n",
    "ax.grid(True)\n",
    "\n",
    "ax.set_ylabel(\"Order Parameter, r\", fontsize=15)\n",
    "ax.set_xlabel(r\"1-simplex coupling, $K_{1}$\", fontsize=15)\n",
    "ax.set_title(rf\"$K_{2}$={K2}, OmegaIC#{ic_omega}, ThetaIC#{ic_theta}\", fontsize=15)\n",
    "\n",
    "# FigName = f\"{PlotDir}/{ThisDir}_OrderParamVsTime_omega{ic_omega}_theta{ic_theta}_K1_{kk1}.png\"\n",
    "# plt.savefig(FigName, format=\"png\", transparent=False, bbox_inches=\"tight\", pad_inches=0.1)\n",
    "\n",
    "plt.show()"
   ]
  },
  {
   "cell_type": "code",
   "execution_count": null,
   "metadata": {},
   "outputs": [],
   "source": []
  }
 ],
 "metadata": {
  "kernelspec": {
   "display_name": "Python 3",
   "language": "python",
   "name": "python3"
  },
  "language_info": {
   "codemirror_mode": {
    "name": "ipython",
    "version": 3
   },
   "file_extension": ".py",
   "mimetype": "text/x-python",
   "name": "python",
   "nbconvert_exporter": "python",
   "pygments_lexer": "ipython3",
   "version": "3.8.3"
  }
 },
 "nbformat": 4,
 "nbformat_minor": 4
}
